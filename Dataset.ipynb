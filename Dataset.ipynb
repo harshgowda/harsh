{
  "nbformat": 4,
  "nbformat_minor": 0,
  "metadata": {
    "colab": {
      "name": "Dataset.ipynb",
      "version": "0.3.2",
      "provenance": [],
      "include_colab_link": true
    },
    "kernelspec": {
      "name": "python3",
      "display_name": "Python 3"
    }
  },
  "cells": [
    {
      "cell_type": "markdown",
      "metadata": {
        "id": "view-in-github",
        "colab_type": "text"
      },
      "source": [
        "<a href=\"https://colab.research.google.com/github/harshgowda/harsh/blob/master/Dataset.ipynb\" target=\"_parent\"><img src=\"https://colab.research.google.com/assets/colab-badge.svg\" alt=\"Open In Colab\"/></a>"
      ]
    },
    {
      "cell_type": "code",
      "metadata": {
        "id": "FqkfCP7eThxQ",
        "colab_type": "code",
        "colab": {}
      },
      "source": [
        "import pandas as pd\n",
        "import numpy as np\n",
        "from matplotlib import pyplot as plt\n",
        "from sklearn.preprocessing import Imputer\n",
        "from sklearn.model_selection import train_test_split"
      ],
      "execution_count": 0,
      "outputs": []
    },
    {
      "cell_type": "code",
      "metadata": {
        "id": "91vgaaDqt6e4",
        "colab_type": "code",
        "outputId": "a856db1b-61b1-41a5-cf52-83124912f226",
        "colab": {
          "base_uri": "https://localhost:8080/"
        }
      },
      "source": [
        "\n",
        "data = pd.read_csv('/content/ZIP_Codes.csv')\n",
        "data.head()\n",
        "\n",
        "\n"
      ],
      "execution_count": 0,
      "outputs": [
        {
          "output_type": "execute_result",
          "data": {
            "text/html": [
              "<div>\n",
              "<style scoped>\n",
              "    .dataframe tbody tr th:only-of-type {\n",
              "        vertical-align: middle;\n",
              "    }\n",
              "\n",
              "    .dataframe tbody tr th {\n",
              "        vertical-align: top;\n",
              "    }\n",
              "\n",
              "    .dataframe thead th {\n",
              "        text-align: right;\n",
              "    }\n",
              "</style>\n",
              "<table border=\"1\" class=\"dataframe\">\n",
              "  <thead>\n",
              "    <tr style=\"text-align: right;\">\n",
              "      <th></th>\n",
              "      <th>OBJECTID</th>\n",
              "      <th>ZIP5</th>\n",
              "      <th>ShapeSTArea</th>\n",
              "      <th>ShapeSTLength</th>\n",
              "    </tr>\n",
              "  </thead>\n",
              "  <tbody>\n",
              "    <tr>\n",
              "      <th>0</th>\n",
              "      <td>1</td>\n",
              "      <td>2134</td>\n",
              "      <td>3.721936e+07</td>\n",
              "      <td>40794.182396</td>\n",
              "    </tr>\n",
              "    <tr>\n",
              "      <th>1</th>\n",
              "      <td>2</td>\n",
              "      <td>2125</td>\n",
              "      <td>6.476052e+07</td>\n",
              "      <td>62224.521440</td>\n",
              "    </tr>\n",
              "    <tr>\n",
              "      <th>2</th>\n",
              "      <td>3</td>\n",
              "      <td>2110</td>\n",
              "      <td>6.637284e+06</td>\n",
              "      <td>18358.213496</td>\n",
              "    </tr>\n",
              "    <tr>\n",
              "      <th>3</th>\n",
              "      <td>4</td>\n",
              "      <td>2118</td>\n",
              "      <td>3.116158e+07</td>\n",
              "      <td>32353.407618</td>\n",
              "    </tr>\n",
              "    <tr>\n",
              "      <th>4</th>\n",
              "      <td>5</td>\n",
              "      <td>2126</td>\n",
              "      <td>6.078585e+07</td>\n",
              "      <td>45488.394711</td>\n",
              "    </tr>\n",
              "  </tbody>\n",
              "</table>\n",
              "</div>"
            ],
            "text/plain": [
              "   OBJECTID  ZIP5   ShapeSTArea  ShapeSTLength\n",
              "0         1  2134  3.721936e+07   40794.182396\n",
              "1         2  2125  6.476052e+07   62224.521440\n",
              "2         3  2110  6.637284e+06   18358.213496\n",
              "3         4  2118  3.116158e+07   32353.407618\n",
              "4         5  2126  6.078585e+07   45488.394711"
            ]
          },
          "metadata": {
            "tags": []
          },
          "execution_count": 70
        }
      ]
    },
    {
      "cell_type": "code",
      "metadata": {
        "id": "AdX1bcgAp4Gl",
        "colab_type": "code",
        "outputId": "aa1460fa-bf07-4096-8d74-ff9878cbbdf0",
        "colab": {
          "base_uri": "https://localhost:8080/",
          "height": 34
        }
      },
      "source": [
        "\n",
        "data.columns"
      ],
      "execution_count": 0,
      "outputs": [
        {
          "output_type": "execute_result",
          "data": {
            "text/plain": [
              "Index(['OBJECTID', 'ZIP5', 'ShapeSTArea', 'ShapeSTLength'], dtype='object')"
            ]
          },
          "metadata": {
            "tags": []
          },
          "execution_count": 39
        }
      ]
    },
    {
      "cell_type": "code",
      "metadata": {
        "id": "YzY5AaABqMh5",
        "colab_type": "code",
        "outputId": "f939b106-2c92-40bb-fa1f-df16c00dff87",
        "colab": {
          "base_uri": "https://localhost:8080/",
          "height": 439
        }
      },
      "source": [
        "#checking for outliers by plotting graph\n",
        "data.plot(kind = 'Box',figsize =(7,7))\n",
        "plt.show()"
      ],
      "execution_count": 0,
      "outputs": [
        {
          "output_type": "display_data",
          "data": {
            "image/png": "[encoded data removed]",
            "text/plain": [
              "<Figure size 504x504 with 1 Axes>"
            ]
          },
          "metadata": {
            "tags": []
          }
        }
      ]
    },
    {
      "cell_type": "code",
      "metadata": {
        "id": "ZJ39aEerqyC6",
        "colab_type": "code",
        "outputId": "b0325ca6-48d5-440d-d6f3-0b7c7d772e23",
        "colab": {
          "base_uri": "https://localhost:8080/",
          "height": 34
        }
      },
      "source": [
        "data=data[data['ShapeSTArea']<0.6]\n",
        "data=data[data['ZIP5']<1.2]\n",
        "print(data.shape)"
      ],
      "execution_count": 0,
      "outputs": [
        {
          "output_type": "stream",
          "text": [
            "(0, 4)\n"
          ],
          "name": "stdout"
        }
      ]
    },
    {
      "cell_type": "code",
      "metadata": {
        "id": "BIL5yD0fuvrz",
        "colab_type": "code",
        "colab": {}
      },
      "source": [
        "X = data.iloc[:, :-1].values\n",
        "y = data.iloc[:,3].values\n"
      ],
      "execution_count": 0,
      "outputs": []
    },
    {
      "cell_type": "code",
      "metadata": {
        "id": "25tNYjKMzoor",
        "colab_type": "code",
        "colab": {
          "base_uri": "https://localhost:8080/",
          "height": 950
        },
        "outputId": "1b37c563-eaf6-4432-b02f-54c386e853e2"
      },
      "source": [
        "print(X)\n",
        "print(y)"
      ],
      "execution_count": 94,
      "outputs": [
        {
          "output_type": "stream",
          "text": [
            "[[1.00000000e+00 2.13400000e+03 3.72193573e+07]\n",
            " [2.00000000e+00 2.12500000e+03 6.47605166e+07]\n",
            " [3.00000000e+00 2.11000000e+03 6.63728375e+06]\n",
            " [4.00000000e+00 2.11800000e+03 3.11615771e+07]\n",
            " [5.00000000e+00 2.12600000e+03 6.07858503e+07]\n",
            " [6.00000000e+00 2.10900000e+03 5.53673144e+06]\n",
            " [7.00000000e+00 2.02100000e+03 2.36190503e+03]\n",
            " [8.00000000e+00 2.11300000e+03 2.80732785e+06]\n",
            " [9.00000000e+00 2.13000000e+03 1.05221153e+08]\n",
            " [1.00000000e+01 2.12100000e+03 4.89059222e+07]\n",
            " [1.10000000e+01 2.11900000e+03 4.45114985e+07]\n",
            " [1.20000000e+01 2.11500000e+03 1.97712960e+07]\n",
            " [1.30000000e+01 2.16300000e+03 3.27131324e+06]\n",
            " [1.40000000e+01 2.13500000e+03 7.86208259e+07]\n",
            " [1.50000000e+01 2.19900000e+03 1.60317736e+06]\n",
            " [1.60000000e+01 2.45900000e+03 2.48327565e+04]\n",
            " [1.70000000e+01 2.12400000e+03 8.56580481e+07]\n",
            " [1.80000000e+01 2.13200000e+03 1.29360685e+08]\n",
            " [1.90000000e+01 2.11400000e+03 1.25386342e+07]\n",
            " [2.00000000e+01 2.10800000e+03 6.16215308e+06]\n",
            " [2.10000000e+01 2.13600000e+03 1.28128953e+08]\n",
            " [2.20000000e+01 2.11100000e+03 7.82379935e+06]\n",
            " [2.30000000e+01 2.21000000e+03 3.23732101e+07]\n",
            " [2.40000000e+01 2.11600000e+03 1.91176462e+07]\n",
            " [2.50000000e+01 2.13100000e+03 8.16887965e+07]\n",
            " [2.60000000e+01 2.12700000e+03 6.75361427e+07]\n",
            " [2.70000000e+01 2.12000000e+03 1.73294936e+07]\n",
            " [2.80000000e+01 2.20300000e+03 8.64466752e+05]\n",
            " [2.90000000e+01 2.21500000e+03 2.51983080e+07]\n",
            " [3.00000000e+01 2.12900000e+03 4.22497625e+07]\n",
            " [3.10000000e+01 2.12800000e+03 1.47802204e+08]\n",
            " [3.20000000e+01 2.12200000e+03 6.10863613e+07]\n",
            " [3.30000000e+01 2.15100000e+03 8.70754779e+06]\n",
            " [3.40000000e+01 2.18600000e+03 9.95219727e+01]\n",
            " [3.50000000e+01 2.02600000e+03 1.91740302e+04]\n",
            " [3.60000000e+01 2.15200000e+03 8.87343259e+06]\n",
            " [3.70000000e+01 2.46700000e+03 5.69638989e+03]\n",
            " [3.80000000e+01 2.46700000e+03 1.81837646e+02]\n",
            " [3.90000000e+01 2.46700000e+03 2.80699996e+06]\n",
            " [4.00000000e+01 2.46700000e+03 1.28257102e+06]\n",
            " [4.10000000e+01 2.46700000e+03 8.82557351e+06]\n",
            " [4.20000000e+01 2.46700000e+03 4.46722904e+06]\n",
            " [4.30000000e+01 2.46700000e+03 5.05977197e+03]]\n",
            "[40794.18239598 62224.52143997 18358.21349568 32353.4076176\n",
            " 45488.39471133 22538.30584176   432.19470223  8507.45997104\n",
            " 64225.02221021 35217.58192328 37680.70209935 34806.58402187\n",
            "  7298.78194321 61170.63093801  5140.73082167  9295.15063852\n",
            " 57673.00774702 68024.5717104  27934.53142114 18485.04012923\n",
            " 65353.75782939 13814.87949408 36215.56401832 23262.91227293\n",
            " 68311.54512162 51905.2516353  28148.29990588  4052.84608445\n",
            " 37861.73130535 38078.09545384 82747.69032347 74811.18400812\n",
            " 24981.90479505    96.86724549  4025.19077199 15553.44160257\n",
            "  2897.4804511    229.30571736 10562.69322776  7052.50472604\n",
            " 21844.8834345  11198.56289193   975.83312067]\n"
          ],
          "name": "stdout"
        }
      ]
    },
    {
      "cell_type": "code",
      "metadata": {
        "id": "136non2Z1YsP",
        "colab_type": "code",
        "colab": {}
      },
      "source": [
        ""
      ],
      "execution_count": 0,
      "outputs": []
    }
  ]
}