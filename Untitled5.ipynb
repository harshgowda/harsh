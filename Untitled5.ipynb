{
  "nbformat": 4,
  "nbformat_minor": 0,
  "metadata": {
    "colab": {
      "name": "Untitled5.ipynb",
      "version": "0.3.2",
      "provenance": [],
      "include_colab_link": true
    },
    "kernelspec": {
      "name": "python3",
      "display_name": "Python 3"
    }
  },
  "cells": [
    {
      "cell_type": "markdown",
      "metadata": {
        "id": "view-in-github",
        "colab_type": "text"
      },
      "source": [
        "<a href=\"https://colab.research.google.com/github/harshgowda/harsh/blob/master/Untitled5.ipynb\" target=\"_parent\"><img src=\"https://colab.research.google.com/assets/colab-badge.svg\" alt=\"Open In Colab\"/></a>"
      ]
    },
    {
      "cell_type": "markdown",
      "metadata": {
        "id": "vALKnZpjYonP",
        "colab_type": "text"
      },
      "source": [
        "print the fibonacci series"
      ]
    },
    {
      "cell_type": "code",
      "metadata": {
        "id": "MEk6H7QWYujs",
        "colab_type": "code",
        "outputId": "e061c705-7136-4da3-9f0b-2ff48b16228b",
        "colab": {
          "base_uri": "https://localhost:8080/",
          "height": 175
        }
      },
      "source": [
        "def recur_fibo(n):\n",
        "  if n <= 1:\n",
        "     return n\n",
        "  else:\n",
        "     return(recur_fibo(n-1) + recur_fibo(n-2))\n",
        "    \n",
        "n = int(input(\"num\"))\n",
        "if n <=0:\n",
        "  print(\"please enter a positive integer\")\n",
        "else:\n",
        "  print(\"fibonacci sequence:\")\n",
        "  for i in range(n):\n",
        "       print(recur_fibo(i))"
      ],
      "execution_count": 3,
      "outputs": [
        {
          "output_type": "stream",
          "text": [
            "num7\n",
            "fibonacci sequence:\n",
            "0\n",
            "1\n",
            "1\n",
            "2\n",
            "3\n",
            "5\n",
            "8\n"
          ],
          "name": "stdout"
        }
      ]
    },
    {
      "cell_type": "code",
      "metadata": {
        "id": "VqcswqFbX9fw",
        "colab_type": "code",
        "colab": {}
      },
      "source": [
        "fibo"
      ],
      "execution_count": 0,
      "outputs": []
    }
  ]
}