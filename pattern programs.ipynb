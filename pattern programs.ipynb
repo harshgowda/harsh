{
  "nbformat": 4,
  "nbformat_minor": 0,
  "metadata": {
    "colab": {
      "name": "Copy of Untitled15.ipynb",
      "version": "0.3.2",
      "provenance": [],
      "include_colab_link": true
    },
    "kernelspec": {
      "name": "python3",
      "display_name": "Python 3"
    }
  },
  "cells": [
    {
      "cell_type": "markdown",
      "metadata": {
        "id": "view-in-github",
        "colab_type": "text"
      },
      "source": [
        "<a href=\"https://colab.research.google.com/github/harshgowda/harsh/blob/master/pattern%20programs.ipynb\" target=\"_parent\"><img src=\"https://colab.research.google.com/assets/colab-badge.svg\" alt=\"Open In Colab\"/></a>"
      ]
    },
    {
      "cell_type": "markdown",
      "metadata": {
        "id": "89nmKwMiEtbW",
        "colab_type": "text"
      },
      "source": [
        "pattern programs\n",
        "\n"
      ]
    },
    {
      "cell_type": "code",
      "metadata": {
        "id": "Jk7O6wCyEz00",
        "colab_type": "code",
        "outputId": "859b1a9e-a810-4212-9e09-18b078282086",
        "colab": {
          "base_uri": "https://localhost:8080/",
          "height": 105
        }
      },
      "source": [
        "for i in range(0, 5):\n",
        "    for j in range(0, i+1):\n",
        "        print(\"* \",end=\"\")\n",
        "    print()\n"
      ],
      "execution_count": 0,
      "outputs": [
        {
          "output_type": "stream",
          "text": [
            "* \n",
            "* * \n",
            "* * * \n",
            "* * * * \n",
            "* * * * * \n"
          ],
          "name": "stdout"
        }
      ]
    },
    {
      "cell_type": "code",
      "metadata": {
        "id": "x4CxgqGYFo59",
        "colab_type": "code",
        "outputId": "3722187a-5dcc-4057-b87a-3d331644b202",
        "colab": {
          "base_uri": "https://localhost:8080/",
          "height": 105
        }
      },
      "source": [
        "for i in range(0, 5):\n",
        "    for j in range(5, i, -1):\n",
        "        print(\"* \", end=\"\")\n",
        "    print()\n"
      ],
      "execution_count": 0,
      "outputs": [
        {
          "output_type": "stream",
          "text": [
            "* * * * * \n",
            "* * * * \n",
            "* * * \n",
            "* * \n",
            "* \n"
          ],
          "name": "stdout"
        }
      ]
    },
    {
      "cell_type": "code",
      "metadata": {
        "id": "IEW78_ddGNka",
        "colab_type": "code",
        "outputId": "dc3929e7-dd16-4f3c-a2fa-87d9f223ad05",
        "colab": {
          "base_uri": "https://localhost:8080/",
          "height": 193
        }
      },
      "source": [
        "for i in range(0, 5):\n",
        "    for j in range(0, i+1):\n",
        "        print(\"* \",end=\"\")\n",
        "    print()\n",
        "for i in range(0, 5):\n",
        "    for j in range(4, i, -1):\n",
        "        print(\"* \", end=\"\")\n",
        "    print()\n"
      ],
      "execution_count": 0,
      "outputs": [
        {
          "output_type": "stream",
          "text": [
            "* \n",
            "* * \n",
            "* * * \n",
            "* * * * \n",
            "* * * * * \n",
            "* * * * \n",
            "* * * \n",
            "* * \n",
            "* \n",
            "\n"
          ],
          "name": "stdout"
        }
      ]
    },
    {
      "cell_type": "code",
      "metadata": {
        "id": "okejH4a6cGWQ",
        "colab_type": "code",
        "outputId": "c6039b47-9a59-4a88-9d20-bbb255b6e639",
        "colab": {
          "base_uri": "https://localhost:8080/",
          "height": 122
        }
      },
      "source": [
        "n=int(input(\"enter a number:\"))\n",
        "for i in range(n):\n",
        "    print('*'*(i+1))\n",
        "for i in range(n-1):\n",
        "    print('*'*(n-i-1))"
      ],
      "execution_count": 0,
      "outputs": [
        {
          "output_type": "stream",
          "text": [
            "enter a number:3\n",
            "*\n",
            "**\n",
            "***\n",
            "**\n",
            "*\n"
          ],
          "name": "stdout"
        }
      ]
    }
  ]
}